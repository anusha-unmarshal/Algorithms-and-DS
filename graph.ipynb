{
 "metadata": {
  "language_info": {
   "codemirror_mode": {
    "name": "ipython",
    "version": 3
   },
   "file_extension": ".py",
   "mimetype": "text/x-python",
   "name": "python",
   "nbconvert_exporter": "python",
   "pygments_lexer": "ipython3",
   "version": "3.8.2"
  },
  "orig_nbformat": 4,
  "kernelspec": {
   "name": "python3",
   "display_name": "Python 3.8.2 64-bit"
  },
  "interpreter": {
   "hash": "31f2aee4e71d21fbe5cf8b01ff0e069b9275f58929596ceb00d14d90e3e16cd6"
  }
 },
 "nbformat": 4,
 "nbformat_minor": 2,
 "cells": [
  {
   "cell_type": "code",
   "execution_count": 9,
   "metadata": {},
   "outputs": [
    {
     "output_type": "stream",
     "name": "stdout",
     "text": [
      "1: Add new edge\n",
      "2: Print graph\n",
      "3: Delete Edge\n",
      "4: Exit\n",
      "0 1 0 0 1 \n",
      "1 0 1 1 1 \n",
      "0 1 0 1 0 \n",
      "0 1 1 0 1 \n",
      "1 1 0 1 0 \n",
      "['1', '2']\n",
      "0 1 0 0 1 \n",
      "1 0 0 1 1 \n",
      "0 0 0 1 0 \n",
      "0 1 1 0 1 \n",
      "1 1 0 1 0 \n",
      "[]\n"
     ]
    },
    {
     "output_type": "error",
     "ename": "IndexError",
     "evalue": "list index out of range",
     "traceback": [
      "\u001b[0;31m---------------------------------------------------------------------------\u001b[0m",
      "\u001b[0;31mIndexError\u001b[0m                                Traceback (most recent call last)",
      "\u001b[0;32m/var/folders/4s/0csx83x967ld0fs3qfvn852h0000gn/T/ipykernel_23065/3075420329.py\u001b[0m in \u001b[0;36m<module>\u001b[0;34m\u001b[0m\n\u001b[1;32m     37\u001b[0m         \u001b[0medge\u001b[0m \u001b[0;34m=\u001b[0m \u001b[0mlist\u001b[0m\u001b[0;34m(\u001b[0m\u001b[0minput\u001b[0m\u001b[0;34m(\u001b[0m\u001b[0;34m\"Enter source and distination\"\u001b[0m\u001b[0;34m)\u001b[0m\u001b[0;34m.\u001b[0m\u001b[0msplit\u001b[0m\u001b[0;34m(\u001b[0m\u001b[0;34m)\u001b[0m\u001b[0;34m)\u001b[0m\u001b[0;34m\u001b[0m\u001b[0;34m\u001b[0m\u001b[0m\n\u001b[1;32m     38\u001b[0m         \u001b[0mprint\u001b[0m\u001b[0;34m(\u001b[0m\u001b[0medge\u001b[0m\u001b[0;34m)\u001b[0m\u001b[0;34m\u001b[0m\u001b[0;34m\u001b[0m\u001b[0m\n\u001b[0;32m---> 39\u001b[0;31m         \u001b[0msampleGraph\u001b[0m\u001b[0;34m.\u001b[0m\u001b[0mdeleteEdge\u001b[0m\u001b[0;34m(\u001b[0m\u001b[0mint\u001b[0m\u001b[0;34m(\u001b[0m\u001b[0medge\u001b[0m\u001b[0;34m[\u001b[0m\u001b[0;36m0\u001b[0m\u001b[0;34m]\u001b[0m\u001b[0;34m)\u001b[0m\u001b[0;34m,\u001b[0m\u001b[0mint\u001b[0m\u001b[0;34m(\u001b[0m\u001b[0medge\u001b[0m\u001b[0;34m[\u001b[0m\u001b[0;36m1\u001b[0m\u001b[0;34m]\u001b[0m\u001b[0;34m)\u001b[0m\u001b[0;34m)\u001b[0m\u001b[0;34m\u001b[0m\u001b[0;34m\u001b[0m\u001b[0m\n\u001b[0m\u001b[1;32m     40\u001b[0m     \u001b[0;32melse\u001b[0m\u001b[0;34m:\u001b[0m\u001b[0;34m\u001b[0m\u001b[0;34m\u001b[0m\u001b[0m\n\u001b[1;32m     41\u001b[0m         \u001b[0;32mbreak\u001b[0m\u001b[0;34m\u001b[0m\u001b[0;34m\u001b[0m\u001b[0m\n",
      "\u001b[0;31mIndexError\u001b[0m: list index out of range"
     ]
    }
   ],
   "source": [
    "# import numpy as np\n",
    "class graph:\n",
    "    def __init__(self, nodes):\n",
    "        self.nodes = nodes\n",
    "        self.matrix = [[0 for i in range(nodes)] for j in range(nodes)]\n",
    "    \n",
    "    def addEdge(self, fromNode, toNode):\n",
    "        self.matrix[fromNode][toNode] = 1\n",
    "        self.matrix[toNode][fromNode] = 1\n",
    "    \n",
    "    def deleteEdge(self, fromNode, toNode):\n",
    "        self.matrix[fromNode][toNode] = 0\n",
    "        self.matrix[toNode][fromNode] = 0\n",
    "\n",
    "    def printGraph(self):\n",
    "        for fromNode in range(self.nodes):\n",
    "             for toNode in range(self.nodes):\n",
    "                 print(self.matrix[fromNode][toNode],end=\" \")\n",
    "             print()\n",
    "\n",
    "nodes = int(input(\"Enter number of nodes in graph\"))\n",
    "sampleGraph = graph(nodes)\n",
    "\n",
    "print(\"1: Add new edge\")\n",
    "print(\"2: Print graph\")\n",
    "print(\"3: Delete Edge\")\n",
    "print(\"4: Exit\")\n",
    "while True:\n",
    "    choice = int(input())\n",
    "    if choice == 1:\n",
    "        edge = list(input(\"Enter source and destination\").split())\n",
    "        # print(edge)\n",
    "        sampleGraph.addEdge(int(edge[0]),int(edge[1]))\n",
    "    elif choice == 2:\n",
    "        sampleGraph.printGraph()\n",
    "    elif choice == 3:\n",
    "        edge = list(input(\"Enter source and distination\").split())\n",
    "        print(edge)\n",
    "        sampleGraph.deleteEdge(int(edge[0]),int(edge[1]))\n",
    "    else:\n",
    "        break"
   ]
  },
  {
   "cell_type": "code",
   "execution_count": null,
   "metadata": {},
   "outputs": [],
   "source": []
  }
 ]
}